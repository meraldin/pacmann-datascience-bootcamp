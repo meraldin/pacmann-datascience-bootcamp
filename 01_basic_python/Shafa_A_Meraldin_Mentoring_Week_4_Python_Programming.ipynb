{
  "cells": [
    {
      "cell_type": "markdown",
      "metadata": {
        "id": "view-in-github",
        "colab_type": "text"
      },
      "source": [
        "<a href=\"https://colab.research.google.com/github/meraldin/pacmann-datascience-bootcamp/blob/main/01_basic_python/Shafa_A_Meraldin_Mentoring_Week_4_Python_Programming.ipynb\" target=\"_parent\"><img src=\"https://colab.research.google.com/assets/colab-badge.svg\" alt=\"Open In Colab\"/></a>"
      ]
    },
    {
      "cell_type": "markdown",
      "metadata": {
        "id": "oiHKP1fFcQg8"
      },
      "source": [
        "# Week 4 - Python Programming\n",
        "---\n",
        "\n",
        "Mentoring Session - Job Preparation Program - Pacmann AI"
      ]
    },
    {
      "cell_type": "markdown",
      "metadata": {
        "id": "mXjAL-TyG8O_"
      },
      "source": [
        "# Task 1. Find a Double Promo User\n",
        "\n",
        "Category: Medium\n",
        "\n",
        "---"
      ]
    },
    {
      "cell_type": "markdown",
      "metadata": {
        "id": "ABI5GvUJG8Pc"
      },
      "source": [
        "**Task Descriptions**\n",
        "- Given lists of `user_id`, `promo_A_status`, `promo_B_status`\n",
        "- Your task is to calculate how many user get a double promo (promo A and B)"
      ]
    },
    {
      "cell_type": "markdown",
      "metadata": {
        "id": "XLHq0gYTG8Pd"
      },
      "source": [
        "Example\n",
        "- `user_id = [3, 4, 5]`\n",
        "- `promo_A_status = [0, 1, 1]`\n",
        "  - This means, `user_id` 4 and 5 get promo A\n",
        "\n",
        "- `promo_B_status = [1, 1, 0]`\n",
        "  - This means, `user_id` 3 and 4 get promo B\n",
        "\n",
        "- So, the `user_id` whose get double promo are 1 user, that is user 4"
      ]
    },
    {
      "cell_type": "markdown",
      "metadata": {
        "id": "vEo-2aqdG8Pd"
      },
      "source": [
        "---\n",
        "**Detail input & output**\n",
        "\n",
        "There are three input:\n",
        "- `user_id`, a list\n",
        "- `promo_A_status`, a list\n",
        "- `promo_B_status`, a list\n",
        "\n",
        "There is a single output:\n",
        "- `int`"
      ]
    },
    {
      "cell_type": "markdown",
      "metadata": {
        "id": "uEvK7MaKG8Pe"
      },
      "source": [
        "---\n",
        "**Input 1**\n",
        "\n",
        "```python\n",
        "user_id = [1, 2, 3, 4, 5]\n",
        "promo_A_status = [1, 0, 1, 1, 0]\n",
        "promo_B_status = [0, 0, 1, 1, 1]\n",
        "```"
      ]
    },
    {
      "cell_type": "markdown",
      "metadata": {
        "id": "PXREvNm9G8Pf"
      },
      "source": [
        "**Output - 1**\n",
        "```\n",
        "Number of user with double promo: 2\n",
        "```"
      ]
    },
    {
      "cell_type": "markdown",
      "metadata": {
        "id": "PKYSd19CG8Pf"
      },
      "source": [
        "---\n",
        "**Input 2**\n",
        "\n",
        "```python\n",
        "user_id = [11, 21, 34, 49, 51]\n",
        "promo_A_status = [1, 1, 0, 1, 0]\n",
        "promo_B_status = [0, 0, 0, 0, 1]\n",
        "```"
      ]
    },
    {
      "cell_type": "markdown",
      "metadata": {
        "id": "e-p8i00SG8Pg"
      },
      "source": [
        "**Output - 2**\n",
        "```\n",
        "Number of user with double promo: 0\n",
        "```"
      ]
    },
    {
      "cell_type": "markdown",
      "metadata": {
        "id": "gBGxpAtzG8Pg"
      },
      "source": [
        "**Questions 1**\n",
        "\n",
        "---\n",
        "Provide the code for solving the problem"
      ]
    },
    {
      "cell_type": "code",
      "execution_count": null,
      "metadata": {
        "colab": {
          "base_uri": "https://localhost:8080/"
        },
        "id": "YBvgO1y4G8Ph",
        "outputId": "b2e557e7-6a1d-464a-db5e-fd00498c66a7"
      },
      "outputs": [
        {
          "name": "stdout",
          "output_type": "stream",
          "text": [
            "Number of user with double promo: 2\n"
          ]
        }
      ],
      "source": [
        "#input 1\n",
        "user_id = [1,2,3,4,5]\n",
        "promo_A_status = [1, 0, 1, 1, 0]\n",
        "promo_B_status = [0, 0, 1, 1, 1]\n",
        "\n",
        "\n",
        "def num_double_promo(user_id,promo_A_status,promo_B_status):\n",
        "  double_promo = 0\n",
        "  for user in range(len(user_id)):\n",
        "    if promo_A_status[user] == 1 and promo_B_status[user] == 1 :\n",
        "      double_promo += 1\n",
        "\n",
        "  return double_promo\n",
        "\n",
        "hasil = num_double_promo(user_id,promo_A_status,promo_B_status)\n",
        "print(f'Number of user with double promo: {hasil}')"
      ]
    },
    {
      "cell_type": "code",
      "execution_count": null,
      "metadata": {
        "id": "K-pvIovrh7mJ"
      },
      "outputs": [],
      "source": [
        "#input 2\n",
        "user_id = [11, 21, 34, 49, 51]\n",
        "promo_A_status = [1, 1, 0, 1, 0]\n",
        "promo_B_status = [0, 0, 0, 0, 1]\n",
        "\n",
        "\n",
        "hasil = num_double_promo(user_id,promo_A_status,promo_B_status)\n",
        "print(f'Number of user with double promo: {hasil}')"
      ]
    },
    {
      "cell_type": "markdown",
      "metadata": {
        "id": "HBpPiNIxd7os"
      },
      "source": [
        "# Task 2. Find a Double Promo User - Continued\n",
        "\n",
        "Category: Medium\n",
        "\n",
        "---"
      ]
    },
    {
      "cell_type": "markdown",
      "metadata": {
        "id": "2t4h6o_Kd7ou"
      },
      "source": [
        "**Task Descriptions**\n",
        "- Given lists of `user_id`, `promo_A_status`, `promo_B_status`\n",
        "- Your task is to find which `user_id` get double promo (promo A and B)"
      ]
    },
    {
      "cell_type": "markdown",
      "metadata": {
        "id": "Un7YVLQPFCi5"
      },
      "source": [
        "Example\n",
        "- `user_id = [3, 4, 5]`\n",
        "- `promo_A_status = [0, 1, 1]`\n",
        "  - This means, `user_id` 4 and 5 get promo A\n",
        "\n",
        "- `promo_B_status = [1, 1, 0]`\n",
        "  - This means, `user_id` 3 and 4 get promo B\n",
        "\n",
        "- So, the `user_id` whose get double promo are `[4]`"
      ]
    },
    {
      "cell_type": "markdown",
      "metadata": {
        "id": "j860MLyGECzr"
      },
      "source": [
        "---\n",
        "**Detail input & output**\n",
        "\n",
        "There are three input:\n",
        "- `user_id`, a list\n",
        "- `promo_A_status`, a list\n",
        "- `promo_B_status`, a list\n",
        "\n",
        "There is a single output:\n",
        "- a list of `user_id` with double promo"
      ]
    },
    {
      "cell_type": "markdown",
      "metadata": {
        "id": "SXFeDQkLd7ow"
      },
      "source": [
        "---\n",
        "**Input 1**\n",
        "\n",
        "```python\n",
        "user_id = [1, 2, 3, 4, 5]\n",
        "promo_A_status = [1, 0, 1, 1, 0]\n",
        "promo_B_status = [0, 0, 1, 1, 1]\n",
        "```"
      ]
    },
    {
      "cell_type": "markdown",
      "metadata": {
        "id": "sHSt4LBEd7ox"
      },
      "source": [
        "**Output - 1**\n",
        "```\n",
        "user_id with double promo: [3, 4]\n",
        "```"
      ]
    },
    {
      "cell_type": "markdown",
      "metadata": {
        "id": "xu4cr_vmEwC8"
      },
      "source": [
        "---\n",
        "**Input 2**\n",
        "\n",
        "```python\n",
        "user_id = [11, 21, 34, 49, 51]\n",
        "promo_A_status = [1, 1, 0, 1, 0]\n",
        "promo_B_status = [0, 0, 0, 0, 1]\n",
        "```"
      ]
    },
    {
      "cell_type": "markdown",
      "metadata": {
        "id": "t3S7YYkjEwDh"
      },
      "source": [
        "**Output - 2**\n",
        "```\n",
        "user_id with double promo: []\n",
        "```"
      ]
    },
    {
      "cell_type": "markdown",
      "metadata": {
        "id": "MZQqVz_wFlVR"
      },
      "source": [
        "**Questions 1**\n",
        "\n",
        "---\n",
        "Provide the code for solving the problem"
      ]
    },
    {
      "cell_type": "code",
      "execution_count": null,
      "metadata": {
        "colab": {
          "base_uri": "https://localhost:8080/"
        },
        "id": "WKfZRoC5FlVb",
        "outputId": "20945bbc-02cb-4ff4-dd1e-038dcbf2f78d"
      },
      "outputs": [
        {
          "name": "stdout",
          "output_type": "stream",
          "text": [
            "user_id with double promo: [3, 4]\n"
          ]
        }
      ],
      "source": [
        "#input 1\n",
        "user_id = [1, 2, 3, 4, 5]\n",
        "promo_A_status = [1, 0, 1, 1, 0]\n",
        "promo_B_status = [0, 0, 1, 1, 1]\n",
        "\n",
        "\n",
        "def id_double_promo(user_id,promo_A_status,promo_B_status):\n",
        "  double_promo_list = []\n",
        "  for user in range(len(user_id)):\n",
        "    if promo_A_status[user] == 1 and promo_B_status[user] == 1 :\n",
        "      double_promo_list.append(user_id[user])\n",
        "\n",
        "  return double_promo_list\n",
        "\n",
        "hasil = id_double_promo(user_id,promo_A_status,promo_B_status)\n",
        "print(f'user_id with double promo: {hasil}')"
      ]
    },
    {
      "cell_type": "code",
      "execution_count": null,
      "metadata": {
        "colab": {
          "base_uri": "https://localhost:8080/"
        },
        "id": "p25sXE-6kK8S",
        "outputId": "9bde6562-66b1-4b68-c5dd-b51733c43a9f"
      },
      "outputs": [
        {
          "name": "stdout",
          "output_type": "stream",
          "text": [
            "user_id with double promo: []\n"
          ]
        }
      ],
      "source": [
        "#input 2\n",
        "user_id = [11, 21, 34, 49, 51]\n",
        "promo_A_status = [1, 1, 0, 1, 0]\n",
        "promo_B_status = [0, 0, 0, 0, 1]\n",
        "\n",
        "\n",
        "def id_double_promo(user_id,promo_A_status,promo_B_status):\n",
        "  double_promo_list = []\n",
        "  for user in range(len(user_id)):\n",
        "    if promo_A_status[user] == 1 and promo_B_status[user] == 1 :\n",
        "      double_promo_list.append(user_id[user])\n",
        "\n",
        "  return double_promo_list\n",
        "\n",
        "hasil = id_double_promo(user_id,promo_A_status,promo_B_status)\n",
        "print(f'user_id with double promo: {hasil}')"
      ]
    },
    {
      "cell_type": "markdown",
      "metadata": {
        "id": "oMGlSKoCfuy-"
      },
      "source": [
        "# Task 3. Calculate number of gender in a data\n",
        "\n",
        "Category: Medium\n",
        "\n",
        "---"
      ]
    },
    {
      "cell_type": "markdown",
      "metadata": {
        "id": "zA6xNheyfuzA"
      },
      "source": [
        "**Task Descriptions**\n",
        "- Given a list of gender, your task is to extract the number people in each gender and return it as a dictionary.\n",
        "\n",
        "Example\n",
        "- `a = ['male', 'female', 'male', 'female', 'female']`\n",
        "- So there are 2 males & 3 females\n",
        "- Thus our output would be `{'male': 2, 'female': 3}`"
      ]
    },
    {
      "cell_type": "markdown",
      "metadata": {
        "id": "_49cXcNALgQu"
      },
      "source": [
        "---\n",
        "**Detail input & output**\n",
        "\n",
        "- input: `a`, list of gender\n",
        "- output: `dict`"
      ]
    },
    {
      "cell_type": "markdown",
      "metadata": {
        "id": "mAxaxYujfuzD"
      },
      "source": [
        "---\n",
        "**Input - 1**\n",
        "\n",
        "```python\n",
        "a = ['male', 'female', 'female', 'male']\n",
        "```"
      ]
    },
    {
      "cell_type": "markdown",
      "metadata": {
        "id": "S89bi74tfuzE"
      },
      "source": [
        "**Output**\n",
        "```python\n",
        "{'male': 2, 'female': 2}\n",
        "```"
      ]
    },
    {
      "cell_type": "markdown",
      "metadata": {
        "id": "jjlTB8WCL4-R"
      },
      "source": [
        "---\n",
        "**Input - 2**\n",
        "\n",
        "```python\n",
        "a = ['female', 'female', 'female', 'female']\n",
        "```"
      ]
    },
    {
      "cell_type": "markdown",
      "metadata": {
        "id": "Ge1lVkoML4-_"
      },
      "source": [
        "**Output**\n",
        "```python\n",
        "{'male': 0, 'female': 4}\n",
        "```"
      ]
    },
    {
      "cell_type": "markdown",
      "metadata": {
        "id": "sQIvVCy3L_6P"
      },
      "source": [
        "**Questions 1**\n",
        "\n",
        "---\n",
        "Provide the code for solving the problem"
      ]
    },
    {
      "cell_type": "code",
      "execution_count": null,
      "metadata": {
        "id": "w1W-tjIML_6R"
      },
      "outputs": [],
      "source": [
        "#input 1\n",
        "gender_list = ['male', 'female', 'female', 'male']\n",
        "gender_dict = {}\n",
        "#loop for checking gender_dict\n",
        "for gender_value in gender_list:\n",
        "  #menghitung +1 value di key female or male sesuai element yang terbaca\n",
        "  gender_dict[gender_value] += 1\n",
        "\n",
        "#print isi dictionary gender\n",
        "print(gender_dict)"
      ]
    },
    {
      "cell_type": "code",
      "execution_count": null,
      "metadata": {
        "colab": {
          "base_uri": "https://localhost:8080/"
        },
        "id": "VQ4ANvOJNCh9",
        "outputId": "3477a7e0-6ef5-45fb-d331-de949b0b94f5"
      },
      "outputs": [
        {
          "output_type": "stream",
          "name": "stdout",
          "text": [
            "{'male': 0, 'female': 4}\n"
          ]
        }
      ],
      "source": [
        "#input 2\n",
        "gender_list = ['female', 'female', 'female', 'female']\n",
        "#mendeklarasikan bahwa male dan female dimulai dari 0\n",
        "gender_dict = {'male': 0, 'female' : 0}\n",
        "#loop for checking gender_dict\n",
        "for gender_value in gender_list:\n",
        "  #menghitung +1 value di key female or male sesuai element yang terbaca\n",
        "  gender_dict[gender_value] += 1\n",
        "\n",
        "#print dictionary gender\n",
        "print(gender_dict)"
      ]
    },
    {
      "cell_type": "markdown",
      "metadata": {
        "id": "xsUAqsjvIBVH"
      },
      "source": [
        "# Task 4. Fibonacci Prime\n",
        "\n",
        "Category: Medium\n",
        "\n",
        "---"
      ]
    },
    {
      "cell_type": "markdown",
      "metadata": {
        "id": "umey3GqiIBVK"
      },
      "source": [
        "## Task Descriptions\n",
        "---\n",
        "- Create a function to find the first `n` Fibonacci Prime Number."
      ]
    },
    {
      "cell_type": "markdown",
      "metadata": {
        "id": "0_ax_ZPM398v"
      },
      "source": [
        "**Fibonacci number**\n",
        "- Fibonacci number is a number that follows this sequence\n",
        "\n",
        "$$\n",
        "n_{i} = n_{i-1} + n_{i-2}\n",
        "$$"
      ]
    },
    {
      "cell_type": "markdown",
      "metadata": {
        "id": "kwWpm7zp4Cx4"
      },
      "source": [
        "- with $n_{1}=1$ and $n_{2}=1$\n",
        "- So, the first 10 Fibonacci number is\n",
        "\n",
        "$$\n",
        "1, 1, 2, 3, 5, 8, 13, 21, 34, 55\n",
        "$$"
      ]
    },
    {
      "cell_type": "markdown",
      "metadata": {
        "id": "z-x0d-cx4SbE"
      },
      "source": [
        "**Prime number**\n",
        "- A prime number is a number which only have 2 divisors, that is $1$ and the number itself.\n",
        "- Example\n",
        "  - $2$ is a prime number. Divisors of $2$ are $1$ and $2$\n",
        "  - $10$ is **not** a prime number. Divisors of $10$ are $1$, $2$, $5$, and $10$.\n",
        "  - $13$ is a prime number. Divisors of $13$ are $1$ and $13$"
      ]
    },
    {
      "cell_type": "markdown",
      "metadata": {
        "id": "_EeYAzGD4sCG"
      },
      "source": [
        "## Detail function\n",
        "---"
      ]
    },
    {
      "cell_type": "markdown",
      "metadata": {
        "id": "jHWrNQO_4zos"
      },
      "source": [
        "- Create a function named `fibonacci_prime` with\n",
        "  - Input `n` (integer)\n",
        "  - Output `numbers` (list), contains the first `n` Fibonacci prime number"
      ]
    },
    {
      "cell_type": "markdown",
      "metadata": {
        "id": "XXX4U4eA5RgM"
      },
      "source": [
        "## Examples\n",
        "---"
      ]
    },
    {
      "cell_type": "markdown",
      "metadata": {
        "id": "X6-yzPcg6m5T"
      },
      "source": [
        "**Input 1**\n",
        "\n",
        "```python\n",
        "# Input\n",
        "res = fibonacci_prime(n = 5)\n",
        "print(res)\n",
        "```\n",
        "\n",
        "**Output 1**\n",
        "```python\n",
        "[2, 3, 5, 13, 89]\n",
        "```"
      ]
    },
    {
      "cell_type": "markdown",
      "metadata": {
        "id": "jYhlUltJ6-7P"
      },
      "source": [
        "**Input 2**\n",
        "\n",
        "```python\n",
        "# Input\n",
        "res = fibonacci_prime(n = 10)\n",
        "print(res)\n",
        "```\n",
        "\n",
        "**Output 2**\n",
        "```python\n",
        "[2, 3, 5, 13, 89, 233, 1597, 28657, 514229, 433494437]\n",
        "```"
      ]
    },
    {
      "cell_type": "markdown",
      "metadata": {
        "id": "5bdXSNiOIBVW"
      },
      "source": [
        "## Answer\n",
        "\n",
        "---\n",
        "- Provide the code for solving the problem\n",
        "- **Make sure your function follows the `Detail Function`**"
      ]
    },
    {
      "cell_type": "code",
      "source": [
        "#fungsi untuk mengecek apakah bilangan prima atau bukan\n",
        "def is_prime(num):\n",
        "  '''\n",
        "  Apakah num bilangan prima?\n",
        "  Parameter\n",
        "  --------\n",
        "  Num : int\n",
        "    angka yang ingin diperiksa\n",
        "\n",
        "  Return\n",
        "  --------\n",
        "  Prime : boolean\n",
        "    ture jika num adalah prima\n",
        "    false jika num bukan prima\n",
        "\n",
        "  '''\n",
        "  prime = True\n",
        "  #bilangan prima tidak kurang dari 2\n",
        "  if num < 2:\n",
        "    prime = False\n",
        "  #bilangan prima tidak genap kecuali 2\n",
        "  elif (num % 2 == 0) and (num !=2):\n",
        "    prime = False\n",
        "\n",
        "  else :\n",
        "    #bilangan prima tidak punya faktor selain 1 dan dirinya sendiri\n",
        "    #mempercepat pengecekan bilangan prima tanpa harus memeriksa semua angka dengan pembagi_max\n",
        "    pembagi_max = int(num**0.5) + 1\n",
        "\n",
        "    #Cukup periksa angka dari 2 sampai akar kuadrat dari numb (ditambah 1 supaya aman)\n",
        "    for pembagi in range(3, pembagi_max, 2):\n",
        "      #jika ada pembagi yang habis membagi num, maka num bukan prima\n",
        "      if (num % pembagi == 0) :\n",
        "        prime = False\n",
        "        break\n",
        "  return prime\n",
        "\n",
        "#fungsi untuk generate bilangan fibonacci yang prima\n",
        "def fibonacci_prime(n):\n",
        "    '''\n",
        "    Generate n bilangan fibonacci prima pertama\n",
        "    Asumsi n1 =1 , n2= 1\n",
        "    Parameter\n",
        "    ---------\n",
        "    n : int\n",
        "      jumlah deret fibonacci prima pertama yang dicari\n",
        "\n",
        "    Return\n",
        "    ---------\n",
        "    fibo_prime : list\n",
        "      n deret fibonacci prima pertama\n",
        "    '''\n",
        "\n",
        "    #buat list fibo dan fibo primai\n",
        "    fibo = [1,1]\n",
        "    fibo_prime = []\n",
        "\n",
        "    #looping while fibo_prime < n sampai memenuhi jumlah n yang dicari\n",
        "    while len(fibo_prime) < n:\n",
        "      #cari bilangan fibo selanjutnya\n",
        "      next_fibo = fibo[-1] + fibo[-2]\n",
        "      #fibo[-1] Mengambil bilangan Fibonacci terakhir di list (angka terbaru)\n",
        "      #fibo[-2] Mengambil bilangan Fibonacci kedua terakhir di list (angka sebelumnya)\n",
        "\n",
        "      #cek apakah next_fibo prima\n",
        "      isprime = is_prime(num = next_fibo)\n",
        "      if is_prime(next_fibo):\n",
        "        #kalo prima, masukkan dalam list fibo_prime\n",
        "        fibo_prime.append(next_fibo)\n",
        "\n",
        "      #update deret fibonacci\n",
        "      fibo.append(next_fibo)\n",
        "    return fibo_prime\n",
        "\n",
        "#input 1\n",
        "print(fibonacci_prime(5))\n",
        "#input 2\n",
        "print(fibonacci_prime(10))"
      ],
      "metadata": {
        "id": "UO_Vaa_AbPcT",
        "colab": {
          "base_uri": "https://localhost:8080/"
        },
        "outputId": "4691272d-12f7-47ca-df4a-5c552028e7f3"
      },
      "execution_count": null,
      "outputs": [
        {
          "output_type": "stream",
          "name": "stdout",
          "text": [
            "[2, 3, 5, 13, 89]\n",
            "[2, 3, 5, 13, 89, 233, 1597, 28657, 514229, 433494437]\n"
          ]
        }
      ]
    },
    {
      "cell_type": "markdown",
      "metadata": {
        "id": "t8m0jPoOizGH"
      },
      "source": []
    },
    {
      "cell_type": "markdown",
      "metadata": {
        "id": "1Lvmi7SKAR2A"
      },
      "source": [
        "# Task 5. Accuracy Metrics in Classifications\n",
        "\n",
        "Category: Medium\n",
        "\n",
        "---"
      ]
    },
    {
      "cell_type": "markdown",
      "metadata": {
        "id": "KOrJ-tmbAR2X"
      },
      "source": [
        "## Task Descriptions\n",
        "---\n",
        "- Create a **lambda** function to calculate the accuracy of given prediction"
      ]
    },
    {
      "cell_type": "markdown",
      "metadata": {
        "id": "5oeDx6NCAR2X"
      },
      "source": [
        "**Accuracy**\n",
        "- You can use accuracy metrics to measure classification model performance.\n",
        "- Given a below data\n",
        "\n",
        "<center>\n",
        "\n",
        "|Real Value|Predicted Value|Status|\n",
        "|:--:|:--:|:--:|\n",
        "|1|0|**False** prediction|\n",
        "|1|1|Correct prediction|\n",
        "|0|0|Correct prediction|\n",
        "|0|1|**False** prediction|\n",
        "|1|1|Correct prediction|\n",
        "|1|1|Correct prediction|\n",
        "|0|0|Correct prediction|\n",
        "|1|1|Correct prediction|\n",
        "\n",
        "</center>\n",
        "\n",
        "- If you predict `0` and the real value is `0`, you predict correctly\n",
        "- If you predict `1` and the real value is `1`, you predict correctly\n",
        "- If you predict `0` while the real value is `1`, you mispredict it.\n",
        "- If you predict `1` while the real value is `0`, you also mispredict it."
      ]
    },
    {
      "cell_type": "markdown",
      "metadata": {
        "id": "NK8py0H9A-JI"
      },
      "source": [
        "- How to calculate accuracy?\n",
        "\n",
        "$$\n",
        "\\text{accuracy}\n",
        "=\n",
        "\\cfrac\n",
        "{\\text{number of correct}}\n",
        "{\\text{number of all data}}\n",
        "$$\n",
        "\n",
        "- So, based on the above table\n",
        "\n",
        "$$\n",
        "\\begin{align*}\n",
        "\\text{accuracy}\n",
        "&=\n",
        "\\cfrac\n",
        "{\\text{number of correct prediction}}\n",
        "{\\text{number of all data}} \\\\\n",
        "&=\n",
        "\\cfrac\n",
        "{6}\n",
        "{8} \\\\\n",
        "\\text{accuracy}\n",
        "&=\n",
        "0.75\n",
        "\\end{align*}\n",
        "$$"
      ]
    },
    {
      "cell_type": "markdown",
      "metadata": {
        "id": "fTGn2luKAR2Y"
      },
      "source": [
        "## Detail function\n",
        "---"
      ]
    },
    {
      "cell_type": "markdown",
      "metadata": {
        "id": "tEaLWiIZAR2Y"
      },
      "source": [
        "- Create a **lambda** function named `calculate_accuracy` with\n",
        "  - Input\n",
        "    - `y_actual` (list), contains the true value\n",
        "    - `y_predicted` (list), contains the predicted value\n",
        "  - Output `accuracy` (float), contains the accuracy metrics"
      ]
    },
    {
      "cell_type": "markdown",
      "metadata": {
        "id": "k7TYvpqPAR2Z"
      },
      "source": [
        "## Examples\n",
        "---"
      ]
    },
    {
      "cell_type": "markdown",
      "metadata": {
        "id": "xBisqn3HAR2Z"
      },
      "source": [
        "**Input 1**\n",
        "\n",
        "```python\n",
        "# Input\n",
        "y_actual = [1, 1, 0, 0, 1, 1, 0, 1]\n",
        "y_predicted = [0, 1, 0, 1, 1, 1, 0, 1]\n",
        "\n",
        "res = calculate_accuracy(y_actual, y_predicted)\n",
        "print(res)\n",
        "```\n",
        "\n",
        "**Output 1**\n",
        "```python\n",
        "0.75\n",
        "```"
      ]
    },
    {
      "cell_type": "markdown",
      "metadata": {
        "id": "mQnbYJYlAR2Z"
      },
      "source": [
        "**Input 2**\n",
        "\n",
        "```python\n",
        "# Input\n",
        "y_actual = [1, 1, -1, -1, 1, 1, -1, 1, -1, -1]\n",
        "y_predicted = [-1, 1, -1, -1, -1, 1, -1, 1, -1, 1]\n",
        "\n",
        "res = calculate_accuracy(y_actual, y_predicted)\n",
        "print(res)\n",
        "```\n",
        "\n",
        "**Output 2**\n",
        "```python\n",
        "0.7\n",
        "```"
      ]
    },
    {
      "cell_type": "markdown",
      "metadata": {
        "id": "2ifQ4p2BAR2Z"
      },
      "source": [
        "## Answer\n",
        "\n",
        "---\n",
        "- Provide the code for solving the problem\n",
        "- **Make sure your function follows the `Detail Function`**"
      ]
    },
    {
      "cell_type": "code",
      "execution_count": null,
      "metadata": {
        "id": "QqG_g8VWAR2a"
      },
      "outputs": [],
      "source": [
        "calculate_accuracy = lambda y_actual, y_predicted: sum([1 if act==pred else 0 for act, pred in zip(y_actual, y_predicted)]) / len(y_actual)\n",
        "\n",
        "#zip untuk menggabungkan list actual dan list predicted\n",
        "#if nilai act = nilai pred maka diberi skor 1\n",
        "#if nilai act != nilai pred maka diberi skor 0\n",
        "#semua skor dijumlahkan pakai rumus sum lalu dibagi len (jumlah benar/jumlah keseluruhan data)"
      ]
    },
    {
      "cell_type": "code",
      "source": [
        "#input 1\n",
        "y_actual = [1, 1, 0, 0, 1, 1, 0, 1]\n",
        "y_predicted = [0, 1, 0, 1, 1, 1, 0, 1]\n",
        "res = calculate_accuracy(y_actual, y_predicted)\n",
        "print(res)"
      ],
      "metadata": {
        "colab": {
          "base_uri": "https://localhost:8080/"
        },
        "id": "cC_30cNuEpmz",
        "outputId": "75774eba-8664-47d7-b506-e9911a345645"
      },
      "execution_count": null,
      "outputs": [
        {
          "output_type": "stream",
          "name": "stdout",
          "text": [
            "0.75\n"
          ]
        }
      ]
    },
    {
      "cell_type": "code",
      "source": [
        "# Input 2\n",
        "y_actual = [1, 1, -1, -1, 1, 1, -1, 1, -1, -1]\n",
        "y_predicted = [-1, 1, -1, -1, -1, 1, -1, 1, -1, 1]\n",
        "\n",
        "res = calculate_accuracy(y_actual, y_predicted)\n",
        "print(res)"
      ],
      "metadata": {
        "colab": {
          "base_uri": "https://localhost:8080/"
        },
        "id": "QqY4iiOeEvq5",
        "outputId": "068efae0-54c8-444a-fb4c-a283e2d88561"
      },
      "execution_count": null,
      "outputs": [
        {
          "output_type": "stream",
          "name": "stdout",
          "text": [
            "0.7\n"
          ]
        }
      ]
    },
    {
      "cell_type": "markdown",
      "metadata": {
        "id": "EOdMk1QDDWhA"
      },
      "source": [
        "# Task 6. Get the user churn\n",
        "\n",
        "Category: Medium\n",
        "\n",
        "---"
      ]
    },
    {
      "cell_type": "markdown",
      "metadata": {
        "id": "rw6bdBFrDWhh"
      },
      "source": [
        "## Task Descriptions\n",
        "---\n",
        "- Given a userID and its subscription status, create a function to determine the number of churned (unsubscribed user) on a specific month"
      ]
    },
    {
      "cell_type": "markdown",
      "metadata": {
        "id": "2uzF4trnDWhi"
      },
      "source": [
        "**How this works**\n",
        "- Given a set of userID and subscription status\n",
        "\n",
        "```python\n",
        "# [userId, subscribe until...]\n",
        "user_data_2019 = [\n",
        "    ['123db', 'November'],\n",
        "    ['940cj', 'January'],\n",
        "    ['859do', 'March'],\n",
        "    ['948wp', 'August'],\n",
        "    ['482po', 'August'],\n",
        "    ['742bh', 'November']\n",
        "]\n",
        "```"
      ]
    },
    {
      "cell_type": "markdown",
      "metadata": {
        "id": "qu1XQk-RK5dD"
      },
      "source": [
        "- Say, we want to see the number of user churned (unsubscribed) on **March**\n",
        "  - Only user `940cj` that does not have subscription renewal until **March**\n",
        "  - So, the number of churned user is 1\n",
        "\n",
        "- Say, we want to see the number of user churned (unsubscribed) on **August**,\n",
        "  - Users `['940cj', '859do']` subscribtions end before august.\n",
        "  - Thus, the number of churned user is 2"
      ]
    },
    {
      "cell_type": "markdown",
      "metadata": {
        "id": "0DgsGgpoDWhj"
      },
      "source": [
        "## Detail function\n",
        "---"
      ]
    },
    {
      "cell_type": "markdown",
      "metadata": {
        "id": "wAKdUFoSDWhj"
      },
      "source": [
        "- Create a function named `calculate_churned` with\n",
        "  - Input\n",
        "    - `user_data` (list), contains the userId and subscribe until ...\n",
        "    - `month` (str), in english, contains month to determine the churned user\n",
        "  - Output `churned` (int), contains the number of churned user before `month`"
      ]
    },
    {
      "cell_type": "markdown",
      "metadata": {
        "id": "DjCgn0N5DWhj"
      },
      "source": [
        "## Examples\n",
        "---"
      ]
    },
    {
      "cell_type": "markdown",
      "metadata": {
        "id": "ha0pxFfbkV_Q"
      },
      "source": [
        "user_data = [['123', 'March'], ['124', 'Februari'], ['125', 'January']]"
      ]
    },
    {
      "cell_type": "markdown",
      "metadata": {
        "id": "L8Dx5aboDWhk"
      },
      "source": [
        "**Input 1**\n",
        "\n",
        "```python\n",
        "# Input\n",
        "user_data_2021 = [\n",
        "    ['5105', 'August'],\n",
        "    ['8806', 'August'],\n",
        "    ['1008', 'December'],\n",
        "    ['2655', 'October'],\n",
        "    ['5645', 'January'],\n",
        "    ['3660', 'February'],\n",
        "    ['1655', 'July'],\n",
        "    ['5772', 'January'],\n",
        "    ['4361', 'January'],\n",
        "    ['9155', 'March'],\n",
        "    ['7689', 'April'],\n",
        "    ['6967', 'December'],\n",
        "    ['6358', 'June'],\n",
        "    ['2075', 'September'],\n",
        "    ['9280', 'March'],\n",
        "    ['2815', 'December'],\n",
        "    ['7743', 'August'],\n",
        "    ['1087', 'February'],\n",
        "    ['9691', 'October'],\n",
        "    ['3397', 'June']\n",
        "]\n",
        "\n",
        "res = calculate_churned(user_data = user_data_2021,\n",
        "                        month = 'October')\n",
        "print(res)\n",
        "```\n",
        "\n",
        "**Output 1**\n",
        "```python\n",
        "15\n",
        "```"
      ]
    },
    {
      "cell_type": "markdown",
      "metadata": {
        "id": "eVQBZZbdPJBQ"
      },
      "source": [
        "**Input 1**\n",
        "\n",
        "```python\n",
        "# Input\n",
        "user_data_2022 = [\n",
        "    ['2062', 'February'],\n",
        "    ['5679', 'October'],\n",
        "    ['4690', 'September'],\n",
        "    ['8748', 'March'],\n",
        "    ['8318', 'December'],\n",
        "    ['7814', 'February'],\n",
        "    ['9850', 'November'],\n",
        "    ['2154', 'September'],\n",
        "    ['7767', 'October'],\n",
        "    ['3755', 'January'],\n",
        "    ['3117', 'March'],\n",
        "    ['4197', 'December'],\n",
        "    ['7276', 'December'],\n",
        "    ['3387', 'May'],\n",
        "    ['2160', 'November'],\n",
        "    ['9626', 'October'],\n",
        "    ['5430', 'July'],\n",
        "    ['7055', 'January'],\n",
        "    ['7838', 'July'],\n",
        "    ['8991', 'May'],\n",
        "    ['6238', 'September'],\n",
        "    ['8033', 'October'],\n",
        "    ['8711', 'January'],\n",
        "    ['9999', 'December'],\n",
        "    ['9980', 'May'],\n",
        "    ['8282', 'September'],\n",
        "    ['1508', 'March'],\n",
        "    ['9899', 'January'],\n",
        "    ['4745', 'October'],\n",
        "    ['9615', 'August'],\n",
        "    ['8526', 'July'],\n",
        "    ['8736', 'January'],\n",
        "    ['6244', 'December'],\n",
        "    ['8319', 'August'],\n",
        "    ['1415', 'April'],\n",
        "    ['3413', 'March'],\n",
        "    ['1683', 'January'],\n",
        "    ['8825', 'November'],\n",
        "    ['6098', 'August'],\n",
        "    ['2627', 'February']\n",
        "]\n",
        "\n",
        "res = calculate_churned(user_data = user_data_2022,\n",
        "                        month = 'August')\n",
        "print(res)\n",
        "```\n",
        "\n",
        "**Output 1**\n",
        "```python\n",
        "20\n",
        "```"
      ]
    },
    {
      "cell_type": "markdown",
      "metadata": {
        "id": "utpLqcoTDWhl"
      },
      "source": [
        "## Answer\n",
        "\n",
        "---\n",
        "- Provide the code for solving the problem\n",
        "- **Make sure your function follows the `Detail Function`**"
      ]
    },
    {
      "cell_type": "code",
      "execution_count": null,
      "metadata": {
        "id": "2cMCngmBDWhl",
        "colab": {
          "base_uri": "https://localhost:8080/"
        },
        "outputId": "73d98d31-063b-4e46-c2be-80bd203f41e2"
      },
      "outputs": [
        {
          "output_type": "stream",
          "name": "stdout",
          "text": [
            "15\n",
            "20\n"
          ]
        }
      ],
      "source": [
        "#variabel untuk compare bulan ke index\n",
        "month_to_index = {\n",
        "    'January' : 1,\n",
        "    'February' : 2,\n",
        "    'March' : 3,\n",
        "    'April' : 4,\n",
        "    'May' : 5,\n",
        "    'June' : 6,\n",
        "    'July' : 7,\n",
        "    'August' : 8,\n",
        "    'September' : 9,\n",
        "    'October' : 10,\n",
        "    'November' : 11,\n",
        "    'December' : 12\n",
        "}\n",
        "\n",
        "#Fungsi untuk menghitung churn\n",
        "def calculate_churned(user_data, month) :\n",
        "  '''\n",
        "  hitung jumlah user yang churn sebelum bulan \"month\"\n",
        "  Parameter\n",
        "  --------\n",
        "  user_data : list\n",
        "    daftar user id dan bulan terakhir subs aktif\n",
        "\n",
        "  month : str\n",
        "    nama bulan terakhir status subs\n",
        "\n",
        "  retruns\n",
        "  -------\n",
        "  n_churn : int\n",
        "    jumlah user dari user_data yang churn sebelum bulan \"month\"\n",
        "  '''\n",
        "  #membandingkan bulan dengan index\n",
        "  index_reference = month_to_index[month]\n",
        "\n",
        "  #variabel jumlah churn user\n",
        "  n_churn = 0\n",
        "\n",
        "  #looping untuk tiap user\n",
        "  for user, last_month in user_data:\n",
        "    #konversi bulan terakhir ke dalam index\n",
        "    last_index = month_to_index[last_month]\n",
        "\n",
        "    #jika last index < index reference, maka user churn dihitung\n",
        "    if last_index < index_reference:\n",
        "        n_churn += 1\n",
        "\n",
        "  return n_churn\n",
        "\n",
        "#input 1\n",
        "user_data_2021 = [\n",
        "    ['5105', 'August'],\n",
        "    ['8806', 'August'],\n",
        "    ['1008', 'December'],\n",
        "    ['2655', 'October'],\n",
        "    ['5645', 'January'],\n",
        "    ['3660', 'February'],\n",
        "    ['1655', 'July'],\n",
        "    ['5772', 'January'],\n",
        "    ['4361', 'January'],\n",
        "    ['9155', 'March'],\n",
        "    ['7689', 'April'],\n",
        "    ['6967', 'December'],\n",
        "    ['6358', 'June'],\n",
        "    ['2075', 'September'],\n",
        "    ['9280', 'March'],\n",
        "    ['2815', 'December'],\n",
        "    ['7743', 'August'],\n",
        "    ['1087', 'February'],\n",
        "    ['9691', 'October'],\n",
        "    ['3397', 'June']\n",
        "]\n",
        "\n",
        "print(calculate_churned(user_data = user_data_2021, month = 'October'))\n",
        "\n",
        "#input 2\n",
        "# Input\n",
        "user_data_2022 = [\n",
        "    ['2062', 'February'],\n",
        "    ['5679', 'October'],\n",
        "    ['4690', 'September'],\n",
        "    ['8748', 'March'],\n",
        "    ['8318', 'December'],\n",
        "    ['7814', 'February'],\n",
        "    ['9850', 'November'],\n",
        "    ['2154', 'September'],\n",
        "    ['7767', 'October'],\n",
        "    ['3755', 'January'],\n",
        "    ['3117', 'March'],\n",
        "    ['4197', 'December'],\n",
        "    ['7276', 'December'],\n",
        "    ['3387', 'May'],\n",
        "    ['2160', 'November'],\n",
        "    ['9626', 'October'],\n",
        "    ['5430', 'July'],\n",
        "    ['7055', 'January'],\n",
        "    ['7838', 'July'],\n",
        "    ['8991', 'May'],\n",
        "    ['6238', 'September'],\n",
        "    ['8033', 'October'],\n",
        "    ['8711', 'January'],\n",
        "    ['9999', 'December'],\n",
        "    ['9980', 'May'],\n",
        "    ['8282', 'September'],\n",
        "    ['1508', 'March'],\n",
        "    ['9899', 'January'],\n",
        "    ['4745', 'October'],\n",
        "    ['9615', 'August'],\n",
        "    ['8526', 'July'],\n",
        "    ['8736', 'January'],\n",
        "    ['6244', 'December'],\n",
        "    ['8319', 'August'],\n",
        "    ['1415', 'April'],\n",
        "    ['3413', 'March'],\n",
        "    ['1683', 'January'],\n",
        "    ['8825', 'November'],\n",
        "    ['6098', 'August'],\n",
        "    ['2627', 'February']\n",
        "]\n",
        "\n",
        "print(calculate_churned(user_data = user_data_2022, month = 'August'))"
      ]
    },
    {
      "cell_type": "markdown",
      "metadata": {
        "id": "11jrU358T3Gk"
      },
      "source": [
        "# Task 7. Count Alphabet"
      ]
    },
    {
      "cell_type": "markdown",
      "metadata": {
        "id": "x1N8mFgtGaD5"
      },
      "source": [
        "**Task Descriptions**\n",
        "\n",
        "- Given an `input_text`\n",
        "- Your tasks are to calculate how many characters that upper case, lower case, and numeric inside the `input_text`\n",
        "- You must also count how many characters in the input\n",
        "- But there are some requirements in this task, your `input_text` must be in the correct format like there must be a whitespace inside the string.\n",
        "- If the requirements are not met, it will print a message **`\"Not a Valid Text\"`**"
      ]
    },
    {
      "cell_type": "markdown",
      "metadata": {
        "id": "Gkg3OZx_IGl3"
      },
      "source": [
        "**Input - 1**\n",
        "\n",
        "```py\n",
        "count_alphabet(\"Komm, süsser Tod\")\n",
        "```"
      ]
    },
    {
      "cell_type": "markdown",
      "metadata": {
        "id": "51R3WdcVIXz5"
      },
      "source": [
        "**Output - 1**\n",
        "\n",
        "```py\n",
        "Total Character: 13\n",
        "Count Upper Case: 2, Count Lower Case: 11, Count Digit: 0\n",
        "```"
      ]
    },
    {
      "cell_type": "markdown",
      "metadata": {
        "id": "ILG-3A8tI1F8"
      },
      "source": [
        "**Input - 2**\n",
        "\n",
        "```py\n",
        "count_alphabet(\"Kode Pos dari Pasar Minggu adalah 12560\")\n",
        "```"
      ]
    },
    {
      "cell_type": "markdown",
      "metadata": {
        "id": "vbCFkZHEI4yc"
      },
      "source": [
        "**Output - 2**\n",
        "\n",
        "```py\n",
        "Total Character: 33\n",
        "Count Upper Case: 4, Count Lower Case: 24, Count Digit: 5\n",
        "```"
      ]
    },
    {
      "cell_type": "markdown",
      "metadata": {
        "id": "PUSPMtC9I-59"
      },
      "source": [
        "**Input - 3**\n",
        "\n",
        "```py\n",
        "count_alphabet(\"BesokKitaPergiMakan\")\n",
        "```"
      ]
    },
    {
      "cell_type": "markdown",
      "metadata": {
        "id": "MXcm91ymJSm6"
      },
      "source": [
        "**Output - 3**\n",
        "\n",
        "```py\n",
        "Not a Valid Text\n",
        "```"
      ]
    },
    {
      "cell_type": "code",
      "execution_count": null,
      "metadata": {
        "id": "NTgm_usRmdz2",
        "colab": {
          "base_uri": "https://localhost:8080/"
        },
        "outputId": "325aba1a-9451-408e-d332-d4099002a1bc"
      },
      "outputs": [
        {
          "output_type": "stream",
          "name": "stdout",
          "text": [
            "Total characters : 13\n",
            "Count Upper Case : 2, Count Lower Case : 11, Count Digit : 0\n",
            "Total characters : 33\n",
            "Count Upper Case : 4, Count Lower Case : 24, Count Digit : 5\n",
            "Not a Valid Text\n"
          ]
        }
      ],
      "source": [
        "def count_alphabet(input_text):\n",
        "    #cek apakah ada whitespace\n",
        "    if \" \" not in input_text:\n",
        "      print(\"Not a Valid Text\")\n",
        "      return\n",
        "\n",
        "    #buat counter\n",
        "    upper_count = 0\n",
        "    lower_count = 0\n",
        "    digit_count = 0\n",
        "    char_count = 0\n",
        "\n",
        "    #looping untuk analisis input_text\n",
        "    for char in input_text:\n",
        "      if char.isalpha() or char.isdigit(): #menghitung total character (non alphabet dan non digit tidak dihitung)\n",
        "        char_count += 1\n",
        "        if char.isupper(): #menghitung character uppercase\n",
        "          upper_count += 1\n",
        "        elif char.islower(): #menghitung character lowercase\n",
        "          lower_count += 1\n",
        "        elif char.isdigit(): #menghitung character digit\n",
        "          digit_count += 1\n",
        "\n",
        "    print(f'Total characters : {char_count}')\n",
        "    print(f'Count Upper Case : {upper_count}, Count Lower Case : {lower_count}, Count Digit : {digit_count}')\n",
        "\n",
        "#Input 1\n",
        "count_alphabet(\"Komm, süsser Tod\")\n",
        "\n",
        "#Input 2\n",
        "count_alphabet(\"Kode Pos dari Pasar Minggu adalah 12560\")\n",
        "\n",
        "#Input 3\n",
        "count_alphabet(\"BesokKitaPergiMakan\")"
      ]
    },
    {
      "cell_type": "code",
      "execution_count": null,
      "metadata": {
        "colab": {
          "base_uri": "https://localhost:8080/"
        },
        "id": "cIaJYX99mml1",
        "outputId": "ca5f9088-fd9f-4043-eb55-dc7b9263145a"
      },
      "outputs": [
        {
          "output_type": "stream",
          "name": "stdout",
          "text": [
            "Total characters : 11\n",
            "Count Upper Case : 1, Count Lower Case : 5, Count Digit : 5\n"
          ]
        }
      ],
      "source": [
        "count_alphabet(\"Makidi 14045\")"
      ]
    }
  ],
  "metadata": {
    "colab": {
      "provenance": [],
      "include_colab_link": true
    },
    "kernelspec": {
      "display_name": "Python 3",
      "name": "python3"
    },
    "language_info": {
      "name": "python"
    }
  },
  "nbformat": 4,
  "nbformat_minor": 0
}