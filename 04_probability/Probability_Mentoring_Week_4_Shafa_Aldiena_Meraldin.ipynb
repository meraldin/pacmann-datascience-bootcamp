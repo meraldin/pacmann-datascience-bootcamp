{
  "nbformat": 4,
  "nbformat_minor": 0,
  "metadata": {
    "colab": {
      "provenance": [],
      "authorship_tag": "ABX9TyP54purnGuq8wVNOOVudRTJ",
      "include_colab_link": true
    },
    "kernelspec": {
      "name": "python3",
      "display_name": "Python 3"
    },
    "language_info": {
      "name": "python"
    }
  },
  "cells": [
    {
      "cell_type": "markdown",
      "metadata": {
        "id": "view-in-github",
        "colab_type": "text"
      },
      "source": [
        "<a href=\"https://colab.research.google.com/github/meraldin/pacmann-datascience-bootcamp/blob/main/04_probability/Probability_Mentoring_Week_4_Shafa_Aldiena_Meraldin.ipynb\" target=\"_parent\"><img src=\"https://colab.research.google.com/assets/colab-badge.svg\" alt=\"Open In Colab\"/></a>"
      ]
    },
    {
      "cell_type": "code",
      "source": [
        "# Probabilitas user baik dan tidak baik\n",
        "P_B = 0.8\n",
        "P_NB = 0.2\n",
        "\n",
        "# Probabilitas rating puas untuk masing-masing user\n",
        "P_P_given_B = 0.6\n",
        "P_P_given_NB = 0.5  # asumsi acak\n",
        "\n",
        "# Probabilitas user memberikan rating puas 3 kali berturut-turut\n",
        "P_PPP_given_B = P_P_given_B ** 3\n",
        "P_PPP_given_NB = P_P_given_NB ** 3\n",
        "\n",
        "# Total probabilitas mendapatkan PPP (puas 3x berturut)\n",
        "P_PPP = P_PPP_given_B * P_B + P_PPP_given_NB * P_NB\n",
        "\n",
        "# Hitung probabilitas user tidak baik jika diketahui PPP terjadi (Teorema Bayes)\n",
        "P_NB_given_PPP = (P_PPP_given_NB * P_NB) / P_PPP\n",
        "\n",
        "# Tampilkan hasil dalam persen\n",
        "print(f\"Peluang user tidak baik diberikan rating puas 3x berturut-turut: {P_NB_given_PPP * 100:.2f}%\")\n"
      ],
      "metadata": {
        "id": "PTT0n2Tt5j9N",
        "outputId": "63886083-b87b-4f7e-dcb8-7ecbcd63a015",
        "colab": {
          "base_uri": "https://localhost:8080/"
        }
      },
      "execution_count": null,
      "outputs": [
        {
          "output_type": "stream",
          "name": "stdout",
          "text": [
            "Peluang user tidak baik diberikan rating puas 3x berturut-turut: 12.64%\n"
          ]
        }
      ]
    },
    {
      "cell_type": "code",
      "execution_count": null,
      "metadata": {
        "colab": {
          "base_uri": "https://localhost:8080/"
        },
        "id": "luJ5qjJCQIct",
        "outputId": "11e6a67c-627b-4ff3-959b-93215d5a2c7c"
      },
      "outputs": [
        {
          "output_type": "stream",
          "name": "stdout",
          "text": [
            "P(Beli | Kondisi): 0.419\n",
            "P(Tidak Beli | Kondisi): 0.581\n",
            "Prediksi: Leads tidak akan membeli\n"
          ]
        }
      ],
      "source": [
        "# Probabilitas prior\n",
        "p_beli = 5/8\n",
        "p_tidak_beli = 3/8\n",
        "\n",
        "# Likelihood\n",
        "# P(Email=Ya | Beli), P(Harga=Medium | Beli), P(Pitching=Tidak | Beli)\n",
        "p_email_ya_given_beli = 2/5\n",
        "p_harga_medium_given_beli = 1/5\n",
        "p_pitching_tidak_given_beli = 2/5\n",
        "\n",
        "# P(Email=Ya | Tidak Beli), P(Harga=Medium | Tidak Beli), P(Pitching=Tidak | Tidak Beli)\n",
        "p_email_ya_given_tidak_beli = 2/3\n",
        "p_harga_medium_given_tidak_beli = 1/3\n",
        "p_pitching_tidak_given_tidak_beli = 1/3\n",
        "\n",
        "# Hitung posterior probability (tanpa normalisasi karena hanya bandingkan relatif)\n",
        "p_beli_given_kondisi = p_beli * p_email_ya_given_beli * p_harga_medium_given_beli * p_pitching_tidak_given_beli\n",
        "p_tidak_beli_given_kondisi = p_tidak_beli * p_email_ya_given_tidak_beli * p_harga_medium_given_tidak_beli * p_pitching_tidak_given_tidak_beli\n",
        "total_prob = p_beli_given_kondisi + p_tidak_beli_given_kondisi\n",
        "\n",
        "result_beli_kondisi = p_beli_given_kondisi / total_prob\n",
        "result_tidak_beli_kondisi = p_tidak_beli_given_kondisi / total_prob\n",
        "\n",
        "# Tampilkan hasil\n",
        "print(\"P(Beli | Kondisi):\", round(result_beli_kondisi, 3))\n",
        "print(\"P(Tidak Beli | Kondisi):\", round(result_tidak_beli_kondisi, 3))\n",
        "\n",
        "# Prediksi\n",
        "if result_beli_kondisi > result_tidak_beli_kondisi:\n",
        "    print(\"Prediksi: Leads akan membeli\")\n",
        "else:\n",
        "    print(\"Prediksi: Leads tidak akan membeli\")\n"
      ]
    },
    {
      "cell_type": "code",
      "source": [
        "import numpy as np\n",
        "\n",
        "n_i = [19, 18, 17, 17, 17, 17, 15, 15, 15, 15]\n",
        "d_i = [0, 1, 0, 0, 0, 2, 0, 0, 0, 2]\n",
        "\n",
        "survival_rates = [1 - (d / n) for d, n in zip(d_i, n_i)]\n",
        "\n",
        "print(\"Survival rate tahun ke-i:\")\n",
        "for i, rate in enumerate(survival_rates, start=1):\n",
        "    print(f\"Tahun ke-{i}: {rate:.2f}\")\n",
        "\n",
        "S_t = np.cumprod(survival_rates)\n",
        "\n",
        "print(f\"\\nPeluang startup tetap hidup hingga tahun ke-10: {S_t[-1]:.2f}\")\n"
      ],
      "metadata": {
        "colab": {
          "base_uri": "https://localhost:8080/"
        },
        "id": "1UfQQoYZY-hz",
        "outputId": "3a8f56a2-6ddd-43f4-e36b-cdfd12846a1f"
      },
      "execution_count": null,
      "outputs": [
        {
          "output_type": "stream",
          "name": "stdout",
          "text": [
            "Survival rate tahun ke-i:\n",
            "Tahun ke-1: 1.00\n",
            "Tahun ke-2: 0.94\n",
            "Tahun ke-3: 1.00\n",
            "Tahun ke-4: 1.00\n",
            "Tahun ke-5: 1.00\n",
            "Tahun ke-6: 0.88\n",
            "Tahun ke-7: 1.00\n",
            "Tahun ke-8: 1.00\n",
            "Tahun ke-9: 1.00\n",
            "Tahun ke-10: 0.87\n",
            "\n",
            "Peluang startup tetap hidup hingga tahun ke-10: 0.72\n"
          ]
        }
      ]
    },
    {
      "cell_type": "code",
      "source": [
        "# Data Customer A\n",
        "churn_A = 0.82\n",
        "fail_A = 0.21\n",
        "revenue_A = 150_000_000\n",
        "\n",
        "# Data Customer B\n",
        "churn_B = 0.42\n",
        "fail_B = 0.71\n",
        "revenue_B = 150_000_000\n",
        "\n",
        "# Hitung ekspektasi revenue Customer A\n",
        "not_churn_A = 1 - churn_A\n",
        "not_fail_A = 1 - fail_A\n",
        "expected_A = not_churn_A * not_fail_A * revenue_A\n",
        "\n",
        "# Hitung ekspektasi revenue Customer B\n",
        "not_churn_B = 1 - churn_B\n",
        "not_fail_B = 1 - fail_B\n",
        "expected_B = not_churn_B * not_fail_B * revenue_B\n",
        "\n",
        "# Print hasil\n",
        "print(f\"Ekspektasi revenue Customer A: Rp {expected_A:,.0f}\")\n",
        "print(f\"Ekspektasi revenue Customer B: Rp {expected_B:,.0f}\")\n",
        "\n",
        "# Keputusan prioritas\n",
        "if expected_A > expected_B:\n",
        "    print(\"Customer A lebih layak diprioritaskan.\")\n",
        "else:\n",
        "    print(\"Customer B lebih layak diprioritaskan.\")\n"
      ],
      "metadata": {
        "colab": {
          "base_uri": "https://localhost:8080/"
        },
        "id": "7EdPE6j1d738",
        "outputId": "c6187444-10c8-4f44-d499-abdd94a6aba5"
      },
      "execution_count": null,
      "outputs": [
        {
          "output_type": "stream",
          "name": "stdout",
          "text": [
            "Ekspektasi revenue Customer A: Rp 21,330,000\n",
            "Ekspektasi revenue Customer B: Rp 25,230,000\n",
            "Customer B lebih layak diprioritaskan.\n"
          ]
        }
      ]
    },
    {
      "cell_type": "code",
      "source": [
        "# Parameter distribusi uniform kontinu\n",
        "a = 1     # waktu paling awal (menit)\n",
        "b = 100   # waktu paling akhir (menit)\n",
        "\n",
        "# Menghitung ekspektasi (rata-rata) dari distribusi uniform kontinu\n",
        "expected_wait_time = (a + b) / 2\n",
        "\n",
        "print(f\"Rata-rata waktu tunggu: {expected_wait_time} menit\")"
      ],
      "metadata": {
        "colab": {
          "base_uri": "https://localhost:8080/"
        },
        "id": "nK3zCvklY_rW",
        "outputId": "e9ed76de-65a0-4fad-f7cc-25fe6ccc0ddb"
      },
      "execution_count": null,
      "outputs": [
        {
          "output_type": "stream",
          "name": "stdout",
          "text": [
            "Rata-rata waktu tunggu: 50.5 menit\n"
          ]
        }
      ]
    },
    {
      "cell_type": "code",
      "source": [
        "from scipy.stats import binom\n",
        "\n",
        "# Parameter\n",
        "n = 100      # total post\n",
        "p = 0.04     # peluang 1 post jadi iklan\n",
        "k = 1        # ingin tahu peluang tepat 1 iklan\n",
        "\n",
        "# Hitung probabilitas menggunakan PMF (probability mass function)\n",
        "prob_1_iklan = binom.pmf(k, n, p)\n",
        "\n",
        "print(f\"Peluang tepat 1 iklan dalam 100 post adalah {prob_1_iklan:.4f} atau {prob_1_iklan*100:.2f}%\")\n"
      ],
      "metadata": {
        "colab": {
          "base_uri": "https://localhost:8080/"
        },
        "id": "HpDkFS4fdsk-",
        "outputId": "16120566-3cbb-4606-a0ff-8c1081c08821"
      },
      "execution_count": null,
      "outputs": [
        {
          "output_type": "stream",
          "name": "stdout",
          "text": [
            "Peluang tepat 1 iklan dalam 100 post adalah 0.0703 atau 7.03%\n"
          ]
        }
      ]
    },
    {
      "cell_type": "code",
      "source": [
        "import matplotlib.pyplot as plt\n",
        "import numpy as np\n",
        "\n",
        "t = np.arange(1, 31)\n",
        "deact_A = 1 - 0.9**t\n",
        "deact_B = 1 - 0.8**t\n",
        "\n",
        "plt.plot(t, deact_A, label='Paket A (p=0.1)')\n",
        "plt.plot(t, deact_B, label='Paket B (p=0.2)')\n",
        "plt.xlabel(\"Jumlah Transaksi (t)\")\n",
        "plt.ylabel(\"Peluang Deaktivasi ≤ t\")\n",
        "plt.title(\"Perbandingan Peluang Deaktivasi\")\n",
        "plt.legend()\n",
        "plt.grid(True)\n",
        "plt.show()\n"
      ],
      "metadata": {
        "id": "FB3p4Va1gn7l",
        "colab": {
          "base_uri": "https://localhost:8080/",
          "height": 472
        },
        "outputId": "654913b2-6cf6-49b6-b488-e2ada2b75708"
      },
      "execution_count": null,
      "outputs": [
        {
          "output_type": "display_data",
          "data": {
            "text/plain": [
              "<Figure size 640x480 with 1 Axes>"
            ],
            "image/png": "[encoded data removed]"
          },
          "metadata": {}
        }
      ]
    },
    {
      "cell_type": "code",
      "source": [],
      "metadata": {
        "id": "4Zp_TDvargmO"
      },
      "execution_count": null,
      "outputs": []
    }
  ]
}