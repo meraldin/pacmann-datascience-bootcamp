{
  "nbformat": 4,
  "nbformat_minor": 0,
  "metadata": {
    "colab": {
      "provenance": [],
      "authorship_tag": "ABX9TyNv72VQPrmKIrcAhKynDmOp",
      "include_colab_link": true
    },
    "kernelspec": {
      "name": "python3",
      "display_name": "Python 3"
    },
    "language_info": {
      "name": "python"
    }
  },
  "cells": [
    {
      "cell_type": "markdown",
      "metadata": {
        "id": "view-in-github",
        "colab_type": "text"
      },
      "source": [
        "<a href=\"https://colab.research.google.com/github/meraldin/pacmann-datascience-bootcamp/blob/main/04_probability/Probability_Mentoring_Week_2_Shafa_Aldiena_Meraldin.ipynb\" target=\"_parent\"><img src=\"https://colab.research.google.com/assets/colab-badge.svg\" alt=\"Open In Colab\"/></a>"
      ]
    },
    {
      "cell_type": "code",
      "execution_count": null,
      "metadata": {
        "colab": {
          "base_uri": "https://localhost:8080/"
        },
        "id": "4AqCkEe9BRcu",
        "outputId": "49574c6c-bf04-4435-8efe-1ffd6a401035"
      },
      "outputs": [
        {
          "output_type": "stream",
          "name": "stdout",
          "text": [
            "Jumlah pilihan rute: 3628800\n",
            "\n",
            "10 rute pengiriman pertama:\n",
            "Rute 1: 1 → 2 → 3 → 4 → 5 → 6 → 7 → 8 → 9 → 10\n",
            "Rute 2: 1 → 2 → 3 → 4 → 5 → 6 → 7 → 8 → 10 → 9\n",
            "Rute 3: 1 → 2 → 3 → 4 → 5 → 6 → 7 → 9 → 8 → 10\n",
            "Rute 4: 1 → 2 → 3 → 4 → 5 → 6 → 7 → 9 → 10 → 8\n",
            "Rute 5: 1 → 2 → 3 → 4 → 5 → 6 → 7 → 10 → 8 → 9\n",
            "Rute 6: 1 → 2 → 3 → 4 → 5 → 6 → 7 → 10 → 9 → 8\n",
            "Rute 7: 1 → 2 → 3 → 4 → 5 → 6 → 8 → 7 → 9 → 10\n",
            "Rute 8: 1 → 2 → 3 → 4 → 5 → 6 → 8 → 7 → 10 → 9\n",
            "Rute 9: 1 → 2 → 3 → 4 → 5 → 6 → 8 → 9 → 7 → 10\n",
            "Rute 10: 1 → 2 → 3 → 4 → 5 → 6 → 8 → 9 → 10 → 7\n"
          ]
        }
      ],
      "source": [
        "from itertools import permutations\n",
        "from math import factorial\n",
        "\n",
        "# Jumlah rute\n",
        "jumlah_rute = factorial(10)\n",
        "print(\"Jumlah pilihan rute:\", jumlah_rute)\n",
        "\n",
        "# Menampilkan 10 rute pertama\n",
        "apotek = [1,2,3,4,5,6,7,8,9,10]\n",
        "perm = permutations(apotek)\n",
        "\n",
        "print(\"\\n10 rute pengiriman pertama:\")\n",
        "for i, rute in enumerate(perm):\n",
        "    if i == 10:\n",
        "        break\n",
        "    print(f\"Rute {i+1}: {' → '.join(map(str, rute))}\")"
      ]
    },
    {
      "cell_type": "code",
      "source": [
        "from math import comb\n",
        "\n",
        "# Jumlah kombinasi memilih 2 dari 5\n",
        "jumlah_pasangan = comb(5, 2)\n",
        "print(\"Jumlah pasangan data analyst:\", jumlah_pasangan)\n"
      ],
      "metadata": {
        "colab": {
          "base_uri": "https://localhost:8080/"
        },
        "id": "qjWOu-1oDlLi",
        "outputId": "fc77d504-77e5-4e65-cfa4-609c6cc08a8b"
      },
      "execution_count": null,
      "outputs": [
        {
          "output_type": "stream",
          "name": "stdout",
          "text": [
            "Jumlah pasangan data analyst: 10\n"
          ]
        }
      ]
    },
    {
      "cell_type": "code",
      "source": [
        "from math import comb\n",
        "\n",
        "# Jumlah kombinasi memilih 50 dari 51\n",
        "jumlah_cara = comb(51, 50)\n",
        "print(\"Jumlah cara memilih user:\", jumlah_cara)"
      ],
      "metadata": {
        "colab": {
          "base_uri": "https://localhost:8080/"
        },
        "id": "oqE1EgzFDlrB",
        "outputId": "3ae72ae7-5f71-4f3a-bbc6-bee906a65e13"
      },
      "execution_count": null,
      "outputs": [
        {
          "output_type": "stream",
          "name": "stdout",
          "text": [
            "Jumlah cara memilih user: 51\n"
          ]
        }
      ]
    },
    {
      "cell_type": "code",
      "source": [
        "from itertools import product\n",
        "\n",
        "# Nilai promo yang mungkin\n",
        "promos = [0, 5000, 10000, 20000, 50000]\n",
        "\n",
        "# Semua kemungkinan 4 kali pemakaian\n",
        "kombinasi = list(product(promos, repeat=4))\n",
        "\n",
        "# Hitung jumlah kombinasi dengan total <= 25.000\n",
        "count_kurang_sama_25rb = sum(1 for k in kombinasi if sum(k) <= 25000)\n",
        "\n",
        "# Total kombinasi\n",
        "total_kombinasi = len(kombinasi)\n",
        "\n",
        "# Hitung kombinasi dengan total > 25.000\n",
        "count_lebih_25rb = total_kombinasi - count_kurang_sama_25rb\n",
        "\n",
        "# Peluang\n",
        "peluang = count_lebih_25rb / total_kombinasi\n",
        "\n",
        "print(f\"Jumlah kombinasi total <= 25.000: {count_kurang_sama_25rb}\")\n",
        "print(f\"Jumlah kombinasi total > 25.000: {count_lebih_25rb}\")\n",
        "print(f\"Total kombinasi: {total_kombinasi}\")\n",
        "print(f\"Peluang Rudi dapat total > 25.000: {peluang:.4f} atau {peluang*100:.2f}%\")\n"
      ],
      "metadata": {
        "id": "K7hmLKv4FqBL",
        "colab": {
          "base_uri": "https://localhost:8080/"
        },
        "outputId": "535793f5-3424-4bef-a304-75ac16add954"
      },
      "execution_count": null,
      "outputs": [
        {
          "output_type": "stream",
          "name": "stdout",
          "text": [
            "Jumlah kombinasi total <= 25.000: 82\n",
            "Jumlah kombinasi total > 25.000: 543\n",
            "Total kombinasi: 625\n",
            "Peluang Rudi dapat total > 25.000: 0.8688 atau 86.88%\n"
          ]
        }
      ]
    },
    {
      "cell_type": "code",
      "source": [
        " 4 + 10 + 16 + 23 + 28 + 1\n",
        "\n",
        " (625-82)/625"
      ],
      "metadata": {
        "colab": {
          "base_uri": "https://localhost:8080/"
        },
        "id": "CmE1ykgPrMb5",
        "outputId": "d56bd145-4d75-47b4-fd24-166e99b22628"
      },
      "execution_count": null,
      "outputs": [
        {
          "output_type": "execute_result",
          "data": {
            "text/plain": [
              "0.8688"
            ]
          },
          "metadata": {},
          "execution_count": 11
        }
      ]
    },
    {
      "cell_type": "code",
      "source": [
        "54 + 16\n",
        "\n"
      ],
      "metadata": {
        "colab": {
          "base_uri": "https://localhost:8080/"
        },
        "id": "jOEwJrjPzYpv",
        "outputId": "48ac2853-2309-4744-f400-9ce530589718"
      },
      "execution_count": null,
      "outputs": [
        {
          "output_type": "execute_result",
          "data": {
            "text/plain": [
              "70"
            ]
          },
          "metadata": {},
          "execution_count": 5
        }
      ]
    },
    {
      "cell_type": "code",
      "source": [
        "625 - 70"
      ],
      "metadata": {
        "colab": {
          "base_uri": "https://localhost:8080/"
        },
        "id": "gguMaNiJzlpW",
        "outputId": "276d1273-265d-46cf-ca0f-41389e25c9e3"
      },
      "execution_count": null,
      "outputs": [
        {
          "output_type": "execute_result",
          "data": {
            "text/plain": [
              "555"
            ]
          },
          "metadata": {},
          "execution_count": 6
        }
      ]
    },
    {
      "cell_type": "code",
      "source": [
        "p = 0.5  # peluang bayar Pay Later per transaksi\n",
        "n = 10   # jumlah transaksi berturut-turut\n",
        "\n",
        "peluang = p ** n\n",
        "\n",
        "print(f\"Peluang bayar Pay Later 10x berturut-turut adalah {peluang:.6f} atau {peluang*100:.4f}%\")\n"
      ],
      "metadata": {
        "colab": {
          "base_uri": "https://localhost:8080/"
        },
        "id": "oq5Sl8P4zuXu",
        "outputId": "0b29131d-76f6-4495-baa8-70faa06ac0a2"
      },
      "execution_count": null,
      "outputs": [
        {
          "output_type": "stream",
          "name": "stdout",
          "text": [
            "Peluang bayar Pay Later 10x berturut-turut adalah 0.000977 atau 0.0977%\n"
          ]
        }
      ]
    },
    {
      "cell_type": "code",
      "source": [
        "import math\n",
        "jumlah_user = 10000\n",
        "peluang_sukses = (1/2) ** 10  # peluang 10x berturut-turut pakai Pay Later\n",
        "nilai_voucher = 10_000_000  # Rp 10 juta\n",
        "\n",
        "# Ekspektasi jumlah user yang berhasil\n",
        "ekspektasi_user_berhasil = math.ceil(jumlah_user * peluang_sukses)\n",
        "\n",
        "# Total budget marketing\n",
        "total_budget = ekspektasi_user_berhasil * nilai_voucher\n",
        "\n",
        "# Cetak hasil\n",
        "print(f\"Ekspektasi jumlah user yang berhasil: {ekspektasi_user_berhasil:.2f}\")\n",
        "print(f\"Total budget marketing: Rp {total_budget:,.0f}\")"
      ],
      "metadata": {
        "colab": {
          "base_uri": "https://localhost:8080/"
        },
        "id": "-kHATvS0aRC8",
        "outputId": "78be35c9-6751-41b2-cd92-119afe092566"
      },
      "execution_count": null,
      "outputs": [
        {
          "output_type": "stream",
          "name": "stdout",
          "text": [
            "Ekspektasi jumlah user yang berhasil: 10.00\n",
            "Total budget marketing: Rp 100,000,000\n"
          ]
        }
      ]
    },
    {
      "cell_type": "code",
      "source": [
        "import math\n",
        "\n",
        "# Parameter\n",
        "revenue_per_transaksi = 2000  # Rp\n",
        "jumlah_transaksi_per_user = 10\n",
        "jumlah_user_total = 10000\n",
        "peluang_menang = 1 / (2 ** 10)  # karena harus 10x berturut-turut dengan Pay Later\n",
        "voucher = 10_000_000  # Rp\n",
        "\n",
        "# Estimasi jumlah user yang berhasil\n",
        "jumlah_user_menang = math.ceil(jumlah_user_total * peluang_menang)\n",
        "\n",
        "# Hitung total revenue\n",
        "total_revenue = revenue_per_transaksi * jumlah_user_menang * jumlah_transaksi_per_user\n",
        "\n",
        "# Hitung total budget (voucher dikalikan jumlah user menang)\n",
        "total_budget = voucher * jumlah_user_menang\n",
        "\n",
        "# Hitung profit / loss\n",
        "profit = total_revenue - total_budget\n",
        "\n",
        "# Output\n",
        "print(f\"Jumlah user menang (dibulatkan ke atas): {jumlah_user_menang}\")\n",
        "print(f\"Total revenue: Rp {total_revenue:,}\")\n",
        "print(f\"Total budget: Rp {total_budget:,}\")\n",
        "print(f\"Profit/loss: Rp {profit:,}\")\n"
      ],
      "metadata": {
        "colab": {
          "base_uri": "https://localhost:8080/"
        },
        "id": "4pcgZy_ta4ky",
        "outputId": "d22a2c3f-29e3-45ec-a4e8-e51360b0a0e8"
      },
      "execution_count": null,
      "outputs": [
        {
          "output_type": "stream",
          "name": "stdout",
          "text": [
            "Jumlah user menang (dibulatkan ke atas): 10\n",
            "Total revenue: Rp 200,000\n",
            "Total budget: Rp 100,000,000\n",
            "Profit/loss: Rp -99,800,000\n"
          ]
        }
      ]
    },
    {
      "cell_type": "code",
      "source": [
        "# Probabilitas\n",
        "p_buruk = 0.35\n",
        "p_bagus = 0.65\n",
        "\n",
        "# Probabilitas pinjaman disetujui oleh masing-masing tipe underwriter\n",
        "p_disetujui_buruk = 1.0\n",
        "p_disetujui_bagus = 0.65\n",
        "\n",
        "# Total probabilitas pinjaman disetujui\n",
        "p_disetujui = (p_disetujui_buruk * p_buruk) + (p_disetujui_bagus * p_bagus)\n",
        "\n",
        "# Output\n",
        "print(f\"Peluang pinjaman disetujui: {p_disetujui:.4f} atau {p_disetujui * 100:.2f}%\")\n"
      ],
      "metadata": {
        "id": "FHiT0aS-dFJO",
        "colab": {
          "base_uri": "https://localhost:8080/"
        },
        "outputId": "64b43448-8527-4db8-d6d9-c1117c4e10f6"
      },
      "execution_count": null,
      "outputs": [
        {
          "output_type": "stream",
          "name": "stdout",
          "text": [
            "Peluang pinjaman disetujui: 0.7725 atau 77.25%\n"
          ]
        }
      ]
    },
    {
      "cell_type": "code",
      "source": [
        "# Jumlah masing-masing kategori dalam confusion matrix\n",
        "true_positive = 8500  # Valid diprediksi valid\n",
        "false_negative = 500  # Valid diprediksi tidak valid\n",
        "false_positive = 990  # Tidak valid diprediksi valid\n",
        "true_negative = 10    # Tidak valid diprediksi tidak valid\n",
        "\n",
        "# Total prediksi benar\n",
        "prediksi_benar = true_positive + true_negative\n",
        "\n",
        "# Total semua prediksi\n",
        "total_prediksi = true_positive + false_negative + false_positive + true_negative\n",
        "\n",
        "# Hitung akurasi\n",
        "akurasi = prediksi_benar / total_prediksi\n",
        "\n",
        "# Tampilkan hasil\n",
        "print(f\"Akurasi model: {akurasi:.3f} atau {akurasi*100:.1f}%\")\n"
      ],
      "metadata": {
        "colab": {
          "base_uri": "https://localhost:8080/"
        },
        "id": "KoHbn5Kb4EEm",
        "outputId": "fe70895e-0b9b-416f-b6fb-33d0b75361f5"
      },
      "execution_count": null,
      "outputs": [
        {
          "output_type": "stream",
          "name": "stdout",
          "text": [
            "Akurasi model: 0.851 atau 85.1%\n"
          ]
        }
      ]
    },
    {
      "cell_type": "code",
      "source": [
        "# Data dari confusion matrix\n",
        "true_negative = 10\n",
        "false_positive = 990\n",
        "\n",
        "# Total gambar yang sebenarnya tidak valid\n",
        "total_actual_invalid = true_negative + false_positive\n",
        "\n",
        "# Hitung peluang menemukan gambar tidak valid (True Negative Rate)\n",
        "prob_find_invalid = true_negative / total_actual_invalid\n",
        "percentage = prob_find_invalid * 100\n",
        "\n",
        "# Tampilkan hasil dengan kalimat\n",
        "print(f\"Peluang model 1 dapat menemukan foto yang tidak valid adalah sebesar {prob_find_invalid:.2f} atau {percentage:.1f}%.\")"
      ],
      "metadata": {
        "id": "11OlzCGu803h",
        "colab": {
          "base_uri": "https://localhost:8080/"
        },
        "outputId": "cec72995-1c76-4134-f02a-d50b0b8cc807"
      },
      "execution_count": null,
      "outputs": [
        {
          "output_type": "stream",
          "name": "stdout",
          "text": [
            "Peluang model 1 dapat menemukan foto yang tidak valid adalah sebesar 0.01 atau 1.0%.\n"
          ]
        }
      ]
    },
    {
      "cell_type": "code",
      "source": [
        "# Data dari confusion matrix\n",
        "true_positive = 8500\n",
        "true_negative = 10\n",
        "false_negative = 500\n",
        "false_positive = 990\n",
        "\n",
        "# Total prediksi yang mengatakan foto tidak valid\n",
        "total_predicted_invalid = true_negative + false_negative\n",
        "\n",
        "# Hitung peluang bahwa foto memang tidak valid ketika diprediksi tidak valid\n",
        "prob_actual_invalid_given_predicted_invalid = true_negative / total_predicted_invalid\n",
        "percentage = prob_actual_invalid_given_predicted_invalid * 100\n",
        "\n",
        "# Tampilkan hasil dengan kalimat\n",
        "print(f\"Peluang bahwa foto tersebut memang tidak valid ketika prediksi menyatakan tidak valid adalah sebesar {prob_actual_invalid_given_predicted_invalid:.4f} atau {percentage:.2f}%.\")\n"
      ],
      "metadata": {
        "colab": {
          "base_uri": "https://localhost:8080/"
        },
        "id": "_aZ2V2bQI-QO",
        "outputId": "f36f89d2-6e30-40b4-db05-7dc956cb9b51"
      },
      "execution_count": null,
      "outputs": [
        {
          "output_type": "stream",
          "name": "stdout",
          "text": [
            "Peluang bahwa foto tersebut memang tidak valid ketika prediksi menyatakan tidak valid adalah sebesar 0.0196 atau 1.96%.\n"
          ]
        }
      ]
    },
    {
      "cell_type": "code",
      "source": [],
      "metadata": {
        "colab": {
          "base_uri": "https://localhost:8080/",
          "height": 141
        },
        "id": "0xL7CCLG7vYL",
        "outputId": "f1a301be-4a85-4b4d-d339-371bcfbfeca5"
      },
      "execution_count": null,
      "outputs": [
        {
          "output_type": "error",
          "ename": "TypeError",
          "evalue": "unsupported operand type(s) for ^: 'float' and 'float'",
          "traceback": [
            "\u001b[0;31m---------------------------------------------------------------------------\u001b[0m",
            "\u001b[0;31mTypeError\u001b[0m                                 Traceback (most recent call last)",
            "\u001b[0;32m<ipython-input-3-204f7bad5a50>\u001b[0m in \u001b[0;36m<cell line: 0>\u001b[0;34m()\u001b[0m\n\u001b[0;32m----> 1\u001b[0;31m \u001b[0;34m(\u001b[0m\u001b[0;36m0.5\u001b[0m\u001b[0;34m)\u001b[0m\u001b[0;34m^\u001b[0m\u001b[0;36m9\u001b[0m \u001b[0;34m*\u001b[0m \u001b[0;36m0.5\u001b[0m\u001b[0;34m\u001b[0m\u001b[0;34m\u001b[0m\u001b[0m\n\u001b[0m",
            "\u001b[0;31mTypeError\u001b[0m: unsupported operand type(s) for ^: 'float' and 'float'"
          ]
        }
      ]
    },
    {
      "cell_type": "code",
      "source": [
        "from math import comb\n",
        "\n",
        "# Parameter\n",
        "n = 10  # jumlah transaksi\n",
        "p = 0.5  # peluang PayLater per transaksi\n",
        "total_users = 10000\n",
        "revenue_per_transaction = 2000  # dalam Rupiah\n",
        "\n",
        "# Inisialisasi total revenue\n",
        "total_revenue = 0\n",
        "\n",
        "# Header\n",
        "print(f\"{'PayLater x Times':<18}{'Estimated Users':<20}{'Revenue (Rp)':<15}\")\n",
        "\n",
        "# Estimasi jumlah user dan revenue untuk setiap jumlah transaksi PayLater (0 - 10)\n",
        "for k in range(n + 1):\n",
        "    prob = comb(n, k) * (p ** k) * ((1 - p) ** (n - k))\n",
        "    estimated_users = round(prob * total_users)\n",
        "    revenue = estimated_users * k * revenue_per_transaction\n",
        "    total_revenue += revenue\n",
        "    print(f\"{k:<18}{estimated_users:<20}{revenue:<15,}\")\n",
        "\n",
        "# Tampilkan total revenue\n",
        "print(f\"\\nTotal Revenue dari semua user: Rp {total_revenue:,}\")"
      ],
      "metadata": {
        "id": "nAaAMklIDtV2",
        "colab": {
          "base_uri": "https://localhost:8080/"
        },
        "outputId": "dd476f88-f43d-4d4d-eb05-a40bfada0302"
      },
      "execution_count": null,
      "outputs": [
        {
          "output_type": "stream",
          "name": "stdout",
          "text": [
            "PayLater x Times  Estimated Users     Revenue (Rp)   \n",
            "0                 10                  0              \n",
            "1                 98                  196,000        \n",
            "2                 439                 1,756,000      \n",
            "3                 1172                7,032,000      \n",
            "4                 2051                16,408,000     \n",
            "5                 2461                24,610,000     \n",
            "6                 2051                24,612,000     \n",
            "7                 1172                16,408,000     \n",
            "8                 439                 7,024,000      \n",
            "9                 98                  1,764,000      \n",
            "10                10                  200,000        \n",
            "\n",
            "Total Revenue dari semua user: Rp 100,010,000\n"
          ]
        }
      ]
    },
    {
      "cell_type": "code",
      "source": [
        "from math import comb, floor\n",
        "\n",
        "# Parameter\n",
        "n = 10  # jumlah transaksi\n",
        "p = 0.5  # peluang PayLater per transaksi\n",
        "total_users = 10000\n",
        "revenue_per_transaction = 2000  # dalam Rupiah\n",
        "\n",
        "# Hitung probabilitas dan estimasi user dengan floor\n",
        "probabilities = [comb(n, k) * (p ** k) * ((1 - p) ** (n - k)) for k in range(n + 1)]\n",
        "raw_users = [prob * total_users for prob in probabilities]\n",
        "floored_users = [floor(u) for u in raw_users]\n",
        "\n",
        "# Hitung sisa pembulatan dan alokasikan agar total = 10000\n",
        "remainder = total_users - sum(floored_users)\n",
        "remainders = [(raw - floor(raw), idx) for idx, raw in enumerate(raw_users)]\n",
        "remainders.sort(reverse=True)  # urutkan berdasarkan sisa terbanyak\n",
        "\n",
        "# Tambahkan sisa ke kategori terbanyak\n",
        "for i in range(remainder):\n",
        "    floored_users[remainders[i][1]] += 1\n",
        "\n",
        "# Langkah 3: Hitung total revenue\n",
        "total_revenue = 0\n",
        "print(f\"{'PayLater x Times':<18}{'Estimated Users':<20}{'Revenue (Rp)':<15}\")\n",
        "\n",
        "for k in range(n + 1):\n",
        "    estimated_users = floored_users[k]\n",
        "    revenue = estimated_users * k * revenue_per_transaction\n",
        "    total_revenue += revenue\n",
        "    print(f\"{k:<18}{estimated_users:<20}{revenue:<15,}\")\n",
        "\n",
        "print(f\"Total Revenue dari semua user: Rp {total_revenue:,}\")\n"
      ],
      "metadata": {
        "id": "eyzE7K5eFFOh",
        "colab": {
          "base_uri": "https://localhost:8080/"
        },
        "outputId": "17955d27-ff22-4ef7-9c85-afced4e142dc"
      },
      "execution_count": null,
      "outputs": [
        {
          "output_type": "stream",
          "name": "stdout",
          "text": [
            "PayLater x Times  Estimated Users     Revenue (Rp)   \n",
            "0                 10                  0              \n",
            "1                 97                  194,000        \n",
            "2                 439                 1,756,000      \n",
            "3                 1172                7,032,000      \n",
            "4                 2051                16,408,000     \n",
            "5                 2461                24,610,000     \n",
            "6                 2051                24,612,000     \n",
            "7                 1172                16,408,000     \n",
            "8                 439                 7,024,000      \n",
            "9                 98                  1,764,000      \n",
            "10                10                  200,000        \n",
            "Total Revenue dari semua user: Rp 100,008,000\n"
          ]
        }
      ]
    },
    {
      "cell_type": "code",
      "source": [],
      "metadata": {
        "id": "KEuhyxlRKk7_"
      },
      "execution_count": null,
      "outputs": []
    }
  ]
}